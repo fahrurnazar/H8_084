{
 "cells": [
  {
   "cell_type": "markdown",
   "metadata": {},
   "source": [
    "Conditional\n",
    "Python mendukung logical conditions yang biasa dipakai dalam matematika:\n",
    "\n",
    "Equals: a == b\n",
    "Not Equals: a != b\n",
    "Less than: a < b\n",
    "Less than or equal to: a <= b\n",
    "Greater than: a > b\n",
    "Greater than or equal to: a >= b\n",
    "These conditions can be used in several ways, most commonly in \"if statements\" and loops.\n",
    "Sebuah \"if statement\" ditulis dengan menggunakan if keyword.\n",
    "\n",
    "Dalam program Python, if statement adalah bagaimana kalian melakukan decision-making. If Statement memungkinkan eksekusi kondisional dari pernyataan atau kelompok pernyataan berdasarkan nilai ekspresi.\n",
    "\n",
    "Introduction to the if Statement\n",
    "Kita akan mulai dengan melihat tipe pernyataan if yang paling dasar. Dalam bentuknya yang paling sederhana, terlihat seperti ini:\n",
    "\n",
    "\n",
    "if <expr>:\n",
    "    <statement>\n",
    "Pada bentuk yang ditampilkan diatas:\n",
    "\n",
    "<expr> is an expression evaluated in Boolean context.\n",
    "<statement> is a valid Python statement, which must be indented.\n",
    "Jika <expr> benar (mengevaluasi ke nilai \"truthy\"), maka <statement> akan dieksekusi. Jika <expr> salah, maka <statement> dilewati dan tidak dieksekusi.\n",
    "\n",
    "Perhatikan bahwa titik dua (:) setelah <expr> diperlukan. Beberapa bahasa pemrograman mengharuskan <expr> diapit tanda kurung, tetapi Python tidak."
   ]
  },
  {
   "cell_type": "code",
   "execution_count": 1,
   "metadata": {},
   "outputs": [
    {
     "name": "stdout",
     "output_type": "stream",
     "text": [
      "yes1\n",
      "yes4\n",
      "yes5\n"
     ]
    }
   ],
   "source": [
    "x = 0\n",
    "y = 5\n",
    "\n",
    "if x < y:                            # Truthy\n",
    "    print('yes1')\n",
    "\n",
    "if y < x:                            # Falsy\n",
    "    print('yes2')\n",
    "\n",
    "if x:                                # Falsy\n",
    "    print('yes3')\n",
    "\n",
    "if y:                                # Truthy\n",
    "    print('yes4')\n",
    "\n",
    "if 'aul' in 'grault':                # Truthy\n",
    "    print('yes5')\n",
    "\n",
    "if 'quux' in ['foo', 'bar', 'baz']:  # Falsy\n",
    "    print('yes6')\n"
   ]
  },
  {
   "cell_type": "markdown",
   "metadata": {},
   "source": [
    "Grouping Statements: Indentation and Blocks\n",
    "So far, so good.\n",
    "\n",
    "Tetapi katakanlah kalian ingin mengevaluasi suatu kondisi dan kemudian melakukan lebih dari satu hal jika itu benar:\n",
    "\n",
    "If the weather is nice, then I will:\n",
    "\n",
    "Mow the lawn\n",
    "Weed the garden\n",
    "Take the dog for a walk\n",
    "(If the weather isn’t nice, then I won’t do any of these things.)\n",
    "\n",
    "Dalam semua contoh yang ditampilkan di atas, masing-masing jika <expr>: hanya diikuti oleh satu <statement>. Perlu ada cara untuk mengatakan \"Jika <expr> benar, lakukan semua hal berikut\".\n",
    "\n",
    "Pendekatan yang biasa diambil oleh sebagian besar bahasa pemrograman adalah dengan mendefinisikan syntactic device yang mengelompokkan beberapa pernyataan menjadi satu pernyataan atau blok. Sebuah blok dianggap secara sintaksis sebagai satu kesatuan. Ketika blok tersebut adalah target dari if, dan <expr> adalah benar, maka semua pernyataan di blok akan dieksekusi. Jika <expr> salah, maka tidak ada satupun yang dieksekusi.\n",
    "\n",
    "Hampir semua bahasa pemrograman menyediakan kemampuan untuk mendefinisikan blocks, tetapi tidak semuanya menyediakannya dengan cara yang sama. Mari kita lihat bagaimana Python melakukannya.\n",
    "\n",
    "Python: It’s All About the Indentation\n",
    "\n",
    "Python mengikuti konvensi yang dikenal sebagai off-side rule, istilah yang diciptakan oleh ilmuwan komputer Inggris Peter J. Landin. (Istilah ini diambil dari offside dalam sepak bola.) Bahasa yang mengikuti off-side rule akan mendefinisikan blok dengan indentasi. Python adalah salah satu dari sekumpulan kecil bahasa off-side rule.\n",
    "\n",
    "Indentasi digunakan untuk mendefinisikan pernyataan atau blok. Dalam program Python, pernyataan yang menjorok ke tingkat yang sama dianggap sebagai bagian dari blok yang sama.\n",
    "\n",
    "Jadi, pernyataan majemuk if dengan Python terlihat seperti ini:\n",
    "\n",
    "\n",
    "if <expr>:\n",
    "    <statement>\n",
    "    <statement>\n",
    "    ...\n",
    "    <statement>\n",
    "<following_statement>\n",
    "Di sini, semua pernyataan pada tingkat indentasi yang cocok (baris 2 hingga 5) dianggap sebagai bagian dari blok yang sama. Seluruh blok dijalankan jika <expr> benar, atau dilewati jika <expr> salah. Apa pun itu, eksekusi dilanjutkan dengan <following_statement> (baris 6) sesudahnya.\n",
    "\n",
    "\n",
    "\n",
    "Perhatikan bahwa tidak ada token yang menunjukkan akhir blok. Sebaliknya, ujung blok ditunjukkan dengan garis yang indentasinya kurang dari garis blok itu sendiri."
   ]
  },
  {
   "cell_type": "code",
   "execution_count": 2,
   "metadata": {},
   "outputs": [
    {
     "name": "stdout",
     "output_type": "stream",
     "text": [
      "After conditional\n"
     ]
    }
   ],
   "source": [
    "\n",
    "if 'foo' in ['bar', 'baz', 'qux']:\n",
    "    print('Expression was true')\n",
    "    print('Executing statement in suite')\n",
    "    print('...')\n",
    "    print('Done.')\n",
    "\n",
    "print('After conditional')\n"
   ]
  },
  {
   "cell_type": "markdown",
   "metadata": {},
   "source": [
    "Empat pernyataan print () pada baris 2 hingga 5 menjorok ke tingkat yang sama satu sama lain. Mereka merupakan blok yang akan dieksekusi jika kondisinya benar. Tapi itu salah, jadi semua pernyataan di blok itu dilewati. Setelah akhir dari if statement telah tercapai (tidak peduli pernyataan dalam blok pada baris 2 sampai 5 dieksekusi atau tidak), eksekusi dilanjutkan ke pernyataan pertama yang memiliki tingkat indentasi yang lebih rendah: pernyataan print () pada baris 6.\n",
    "\n",
    "Blok dapat di nest hingga kedalaman berapapun. Setiap indentasi mendefinisikan blok baru, dan setiap outdent mengakhiri blok sebelumnya. Hasilnya, Struktur yang dihasilkan sangat jelas, konsisten, dan intuitif.\n",
    "\n",
    "Berikut ini skrip yang lebih rumit:"
   ]
  },
  {
   "cell_type": "code",
   "execution_count": 3,
   "metadata": {},
   "outputs": [
    {
     "name": "stdout",
     "output_type": "stream",
     "text": [
      "Outer condition is true\n",
      "Between inner conditions\n",
      "Inner condition 2\n",
      "End of outer condition\n",
      "After outer condition\n"
     ]
    }
   ],
   "source": [
    "# Does line execute?                        Yes    No\n",
    "#                                           ---    --\n",
    "if 'foo' in ['foo', 'bar', 'baz']:        #  x\n",
    "    print('Outer condition is true')      #  x\n",
    "\n",
    "    if 10 > 20:                           #  x\n",
    "        print('Inner condition 1')        #        x\n",
    "\n",
    "    print('Between inner conditions')     #  x\n",
    "\n",
    "    if 10 < 20:                           #  x\n",
    "        print('Inner condition 2')        #  x\n",
    "\n",
    "    print('End of outer condition')       #  x\n",
    "print('After outer condition')            #  x"
   ]
  },
  {
   "cell_type": "markdown",
   "metadata": {},
   "source": [
    "The else and elif Clauses\n",
    "Sekarang kalian tahu cara menggunakan pernyataan if untuk mengeksekusi pernyataan tunggal atau blok dari beberapa statement. Saatnya mencari tahu apa lagi yang bisa kalian lakukan.\n",
    "\n",
    "Terkadang, kalian ingin mengevaluasi suatu kondisi dan mengambil satu jalur jika benar, tetapi menentukan jalur alternatif jika tidak benar. Ini dapat dilakukan dengan klausa else:\n",
    "\n",
    "\n",
    "if <expr>:\n",
    "    <statement(s)>\n",
    "else:\n",
    "    <statement(s)>\n",
    "Jika <expr> benar, rangkaian pertama dijalankan, dan rangkaian kedua dilewati. Jika salah, rangkaian pertama dilewati dan rangkaian kedua dijalankan. Begitupun sebaliknya, eksekusi kemudian dilanjutkan setelah rangkaian kedua. Kedua suite ditentukan oleh indentasi, seperti dijelaskan di atas.\n",
    "\n",
    "Dalam contoh ini, x kurang dari 50, jadi rangkaian pertama (baris 4 hingga 5) dieksekusi, dan rangkaian kedua (baris 7 hingga 8) dilewati:"
   ]
  },
  {
   "cell_type": "code",
   "execution_count": 4,
   "metadata": {},
   "outputs": [
    {
     "name": "stdout",
     "output_type": "stream",
     "text": [
      "(first suite)\n",
      "x is small\n"
     ]
    }
   ],
   "source": [
    "x = 20\n",
    "\n",
    "if x < 50:\n",
    "    print('(first suite)')\n",
    "    print('x is small')\n",
    "else:\n",
    "    print('(second suite)')\n",
    "    print('x is large')\n"
   ]
  },
  {
   "cell_type": "code",
   "execution_count": 5,
   "metadata": {},
   "outputs": [
    {
     "name": "stdout",
     "output_type": "stream",
     "text": [
      "uang tidak cukup\n"
     ]
    }
   ],
   "source": [
    "hargaBuku = 20000\n",
    "hargaMajalah = 5000\n",
    "uang = 2000\n",
    "\n",
    "if uang > hargaBuku:\n",
    "    print(\"beli buku\")\n",
    "else:\n",
    "    print(\"uang tidak cukup\")\n"
   ]
  },
  {
   "cell_type": "markdown",
   "metadata": {},
   "source": [
    "Ada juga sintaks untuk eksekusi percabangan berdasarkan beberapa alternatif. Untuk ini, gunakan satu atau lebih klausa elif (kependekan dari else if). Python mengevaluasi setiap <expr> secara bergantian dan menjalankan suite yang sesuai dengan yang pertama benar. Jika tidak ada ekspresi yang benar, dan klausa else ada disana, rangkaiannya akan dieksekusi:\n",
    "\n",
    "if <expr>:\n",
    "    <statement(s)>\n",
    "elif <expr>:\n",
    "    <statement(s)>\n",
    "elif <expr>:\n",
    "    <statement(s)>\n",
    "    ...\n",
    "else:\n",
    "    <statement(s)>"
   ]
  },
  {
   "cell_type": "code",
   "execution_count": 6,
   "metadata": {},
   "outputs": [
    {
     "name": "stdout",
     "output_type": "stream",
     "text": [
      "uang tidak cukup\n"
     ]
    }
   ],
   "source": [
    "hargaBuku = 20000\n",
    "hargaMajalah = 5000\n",
    "uang = 2000\n",
    "\n",
    "if uang > hargaBuku:\n",
    "    print(\"beli buku\")\n",
    "elif uang > hargaMajalah:\n",
    "    print(\"beli majalah\")\n",
    "else:\n",
    "    print(\"uang tidak cukup\")\n"
   ]
  },
  {
   "cell_type": "code",
   "execution_count": 7,
   "metadata": {},
   "outputs": [
    {
     "name": "stdout",
     "output_type": "stream",
     "text": [
      "Hello Hacktiv8\n"
     ]
    }
   ],
   "source": [
    "name = 'Hacktiv8'\n",
    "if name == 'Fred':\n",
    "    print('Hello Fred')\n",
    "elif name == 'Xander':\n",
    "    print('Hello Xander')\n",
    "elif name == 'Hacktiv8':\n",
    "    print('Hello Hacktiv8')\n",
    "elif name == 'Arnold':\n",
    "    print('Hello Arnold')\n",
    "else:\n",
    "    print(\"I don't know who you are!\")\n"
   ]
  },
  {
   "cell_type": "markdown",
   "metadata": {},
   "source": [
    "Pada dasarnya, salah satu blok kode yang ditentukan akan dieksekusi. Jika klausa else tidak disertakan, dan semua kondisinya salah, maka tidak ada blok yang akan dieksekusi.\n",
    "\n",
    "Pernyataan if dengan klausa elif menggunakan short-circuit evaluation, serupa dengan apa yang kalian lihat dengan operator and dan or. Setelah salah satu ekspresi ditemukan benar dan bloknya dijalankan, tidak ada ekspresi yang tersisa yang diuji. Ini ditunjukkan di bawah ini:"
   ]
  },
  {
   "cell_type": "code",
   "execution_count": 8,
   "metadata": {},
   "outputs": [
    {
     "name": "stdout",
     "output_type": "stream",
     "text": [
      "foo\n"
     ]
    }
   ],
   "source": [
    "if 'a' in 'bar':\n",
    "    print('foo')\n",
    "elif 1/0:\n",
    "    print(\"This won't happen\")\n",
    "elif var:\n",
    "    print(\"This won't either\")\n"
   ]
  },
  {
   "cell_type": "markdown",
   "metadata": {},
   "source": [
    "One-Line if Statements\n",
    "Biasanya <expr> ditulis dalam satu baris dan <statement> diindentasi pada baris berikut seperti ini:\n",
    "if <expr>:\n",
    "    <statement>\n",
    "\n",
    "Tetapi diperbolehkan untuk menulis seluruh pernyataan if dalam satu baris. Berikut ini secara fungsional yang setara dengan contoh di atas:\n",
    "\n",
    "if <expr>: <statement>\n",
    "\n",
    "Bahkan bisa ada lebih dari satu <statement> pada baris yang sama, dipisahkan oleh titik koma:\n",
    "\n",
    "if <expr>: <statement_1>; <statement_2>; ...; <statement_n>\n",
    "\n",
    "Tapi apa artinya? Ada dua kemungkinan interpretasi:\n",
    "\n",
    "If <expr> is true, execute <statement_1>.\n",
    "\n",
    "Then, execute <statement_2> ... <statement_n> unconditionally, irrespective of whether <expr> is true or not.\n",
    "\n",
    "If <expr> is true, execute all of <statement_1> ... <statement_n>. Otherwise, don’t execute any of them.\n",
    "\n",
    "Python mengambil interpretasi yang terakhir. Tanda titik koma yang memisahkan <statements> memiliki prioritas lebih tinggi daripada titik dua setelah <expr> —dalam bahasa komputer, titik koma dikatakan mengikat lebih erat daripada titik dua. Dengan demikian, <statements> diperlakukan sebagai suite, dan semuanya dijalankan, atau tidak ada yang:"
   ]
  },
  {
   "cell_type": "code",
   "execution_count": 9,
   "metadata": {},
   "outputs": [
    {
     "name": "stdout",
     "output_type": "stream",
     "text": [
      "1\n",
      "2\n",
      "3\n"
     ]
    }
   ],
   "source": [
    "if 'f' in 'foo': print('1'); print('2'); print('3')"
   ]
  },
  {
   "cell_type": "code",
   "execution_count": 10,
   "metadata": {},
   "outputs": [],
   "source": [
    "if 'z' in 'foo': print('1'); print('2'); print('3')"
   ]
  },
  {
   "cell_type": "markdown",
   "metadata": {},
   "source": [
    "Multiple statements dapat ditentukan pada baris yang sama sebagai elif atau else:"
   ]
  },
  {
   "cell_type": "code",
   "execution_count": 11,
   "metadata": {},
   "outputs": [
    {
     "name": "stdout",
     "output_type": "stream",
     "text": [
      "qux\n",
      "quux\n"
     ]
    }
   ],
   "source": [
    "x = 2\n",
    "\n",
    "if x == 1: print('foo'); print('bar'); print('baz')\n",
    "elif x == 2: print('qux'); print('quux')\n",
    "else: print('corge'); print('grault')"
   ]
  },
  {
   "cell_type": "code",
   "execution_count": 12,
   "metadata": {},
   "outputs": [
    {
     "name": "stdout",
     "output_type": "stream",
     "text": [
      "corge\n",
      "grault\n"
     ]
    }
   ],
   "source": [
    "x = 3\n",
    "if x == 1: print('foo'); print('bar'); print('baz')\n",
    "elif x == 2: print('qux'); print('quux')\n",
    "else: print('corge'); print('grault')"
   ]
  },
  {
   "cell_type": "markdown",
   "metadata": {},
   "source": [
    "Meskipun semua ini berfungsi, dan interpreter mengizinkannya, umumnya tidak disarankan karena menyebabkan readability yang buruk, terutama untuk pernyataan if yang kompleks. PEP 8 secara khusus merekomendasikan untuk tidak melakukannya.\n",
    "\n",
    "Seperti biasa, ini masalah selera. Kebanyakan orang akan menganggap hal dibawah ini lebih menarik secara visual dan lebih mudah dipahami pada pandangan pertama daripada contoh di atas:"
   ]
  },
  {
   "cell_type": "code",
   "execution_count": 13,
   "metadata": {},
   "outputs": [
    {
     "name": "stdout",
     "output_type": "stream",
     "text": [
      "corge\n",
      "grault\n"
     ]
    }
   ],
   "source": [
    "x = 3\n",
    "if x == 1:\n",
    "    print('foo')\n",
    "    print('bar')\n",
    "    print('baz')\n",
    "elif x == 2:\n",
    "    print('qux')\n",
    "    print('quux')\n",
    "else:\n",
    "    print('corge')\n",
    "    print('grault')\n"
   ]
  },
  {
   "cell_type": "markdown",
   "metadata": {},
   "source": [
    "Conditional Expressions (Python’s Ternary Operator)\n",
    "Python mendukung decision-making tambahan yang disebut conditional expression. (Juga disebut conditional operator atau ternary operator di berbagai Python documentation.) Conditional expressions diusulkan untuk ditambahkan ke bahasa di PEP 308 dan diberi lampu hijau oleh Guido pada tahun 2005.\n",
    "\n",
    "Dalam bentuknya yang paling sederhana, sintaks dari conditional expression adalah sebagai berikut:\n",
    "\n",
    "<expr1> if <conditional_expr> else <expr2>\n",
    "\n",
    "Ini berbeda dengan pernyataan if yang tercantum di atas karena ini bukan struktur kontrol yang mengarahkan aliran eksekusi program. Ini bertindak lebih seperti operator yang mendefinisikan ekspresi. Dalam contoh di atas, <conditional_expr> dievaluasi terlebih dahulu. Jika benar, ekspresi mengevaluasi ke <expr1>. Jika salah, ekspresi mengevaluasi ke <expr2>.\n",
    "\n",
    "Perhatikan urutan yang tidak jelas: ekspresi tengah dievaluasi terlebih dahulu, dan berdasarkan hasil itu, salah satu ekspresi di ujung dikembalikan. Berikut beberapa contoh yang diharapkan dapat membantu memperjelas:"
   ]
  },
  {
   "cell_type": "code",
   "execution_count": 14,
   "metadata": {},
   "outputs": [
    {
     "name": "stdout",
     "output_type": "stream",
     "text": [
      "Let's go to the beach\n"
     ]
    }
   ],
   "source": [
    "raining = False\n",
    "print(\"Let's go to the\", 'beach' if not raining else 'library')\n"
   ]
  },
  {
   "cell_type": "code",
   "execution_count": 15,
   "metadata": {},
   "outputs": [
    {
     "name": "stdout",
     "output_type": "stream",
     "text": [
      "Let's go to the library\n"
     ]
    }
   ],
   "source": [
    "raining = True\n",
    "print(\"Let's go to the\", 'beach' if not raining else 'library')\n"
   ]
  },
  {
   "cell_type": "code",
   "execution_count": 16,
   "metadata": {},
   "outputs": [
    {
     "data": {
      "text/plain": [
       "'teen'"
      ]
     },
     "execution_count": 16,
     "metadata": {},
     "output_type": "execute_result"
    }
   ],
   "source": [
    "age = 12\n",
    "s = 'teen' if age < 21 else 'adult'\n",
    "s"
   ]
  },
  {
   "cell_type": "code",
   "execution_count": 17,
   "metadata": {},
   "outputs": [
    {
     "data": {
      "text/plain": [
       "'no'"
      ]
     },
     "execution_count": 17,
     "metadata": {},
     "output_type": "execute_result"
    }
   ],
   "source": [
    "'yes' if ('qux' in ['foo', 'bar', 'baz']) else 'no'\n"
   ]
  },
  {
   "cell_type": "markdown",
   "metadata": {},
   "source": [
    "Kalian dapat menggunakan pernyataan if standar dengan klausa else:\n",
    "Kalian dapat menggunakan pernyataan if standar dengan klausa else:\n",
    "\n",
    "\n",
    "if a > b:\n",
    "    m = a\n",
    "else:\n",
    "    m = b\n",
    "\n",
    "Tapi conditional expression lebih pendek dan bisa dibilang lebih mudah dibaca juga:\n",
    "\n",
    "m = a if a > b else b\n",
    "\n",
    "Ingat bahwa conditional expression berperilaku seperti expression secara syntax. Ini dapat digunakan sebagai bagian dari expression yang lebih panjang. conditional expression memiliki prioritas yang lebih rendah daripada hampir semua operator lain, jadi diperlukan tanda kurung untuk mengelompokkannya sendiri.\n",
    "\n",
    "In the expression <expr1> if <conditional_expr> else <expr2>:\n",
    "\n",
    "If <conditional_expr> is true, <expr1> is returned and <expr2> is not evaluated.\n",
    "\n",
    "If <conditional_expr> is false, <expr2> is returned and <expr1> is not evaluated.\n",
    "\n",
    "The Python pass Statement\n",
    "Terkadang, kalian mungkin menemukan bahwa kalianingin menulis apa yang disebut code stub: placeholder tempat kalian pada akhirnya akan meletakkan blok kode yang belum kalian terapkan.\n",
    "\n",
    "Pertimbangkan skrip ini foo.py:"
   ]
  },
  {
   "cell_type": "code",
   "execution_count": 18,
   "metadata": {},
   "outputs": [
    {
     "ename": "IndentationError",
     "evalue": "expected an indented block (3367160564.py, line 3)",
     "output_type": "error",
     "traceback": [
      "\u001b[1;36m  Input \u001b[1;32mIn [18]\u001b[1;36m\u001b[0m\n\u001b[1;33m    print('foo')\u001b[0m\n\u001b[1;37m    ^\u001b[0m\n\u001b[1;31mIndentationError\u001b[0m\u001b[1;31m:\u001b[0m expected an indented block\n"
     ]
    }
   ],
   "source": [
    "if True:\n",
    "\n",
    "print('foo')"
   ]
  },
  {
   "cell_type": "markdown",
   "metadata": {},
   "source": [
    "Python pass statement memecahkan masalah ini. Dia tidak mengubah perilaku program sama sekali. Pass digunakan sebagai placeholder untuk membuat interpreter berjalan dalam situasi apa pun di mana pernyataan diperlukan secara sintaksis, tetapi kalian tidak benar-benar ingin melakukan apa pun:"
   ]
  },
  {
   "cell_type": "code",
   "execution_count": null,
   "metadata": {},
   "outputs": [
    {
     "name": "stdout",
     "output_type": "stream",
     "text": [
      "foo\n"
     ]
    }
   ],
   "source": [
    "if True:\n",
    "    pass\n",
    "print('foo')\n"
   ]
  },
  {
   "cell_type": "markdown",
   "metadata": {},
   "source": [
    "Iteration artinya mengeksekusi blok kode yang sama berulang kali, berpotensi berkali-kali. Struktur pemrograman yang mengimplementasikan iterasi disebut loop.\n",
    "\n",
    "Dalam pemrograman, ada dua jenis iterasi, indefinite dan definite:\n",
    "\n",
    "Dengan indefinite iteration, berapa kali loop dijalankan tidak ditentukan secara eksplisit sebelumnya. Sebaliknya, blok yang ditunjuk dijalankan berulang kali selama beberapa kondisi terpenuhi.\n",
    "Dengan definite iteration, berapa kali blok yang ditunjuk akan dieksekusi ditentukan secara eksplisit pada saat perulangan dimulai.\n",
    "Python \"while\" Loops\n",
    "Mari kita lihat bagaimana while Python digunakan untuk membuat loop. Kita akan mulai dengan sederhana dan kembangkan sambil jalan.\n",
    "\n",
    "Format while loop ditampilkan di bawah ini:\n",
    "\n",
    "while <expr>:\n",
    "    <statement(s)>\n",
    "\n",
    "<statement(s)> mewakili blok yang akan dieksekusi berulang kali, sering disebut sebagai badan dari perulangan. <statement(s)> dilambangkan dengan indentasi, seperti dalam pernyataan if.\n",
    "\n",
    "Ekspresi pengontrol, <expr>, biasanya melibatkan satu atau lebih variabel yang diinisialisasi sebelum memulai pengulangan dan kemudian dimodifikasi di suatu tempat di badan pengulangan.\n",
    "\n",
    "Ketika loop dijalankan, <expr> pertama kali akan dievaluasi dalam konteks Boolean. Jika benar, badan perulangan akan dieksekusi. Kemudian <expr> dicek lagi, dan jika masih benar, badan akan dieksekusi lagi. Ini berlanjut sampai <expr> menjadi false, di mana eksekusi program akan berlanjut ke pernyataan pertama di luar badan perulangan.\n",
    "\n",
    "Consider this loop:"
   ]
  },
  {
   "cell_type": "code",
   "execution_count": null,
   "metadata": {},
   "outputs": [
    {
     "name": "stdout",
     "output_type": "stream",
     "text": [
      "4\n",
      "3\n",
      "2\n",
      "1\n",
      "0\n"
     ]
    }
   ],
   "source": [
    "n = 5\n",
    "while n > 0:\n",
    "    n -= 1\n",
    "    print(n)\n"
   ]
  },
  {
   "cell_type": "code",
   "execution_count": null,
   "metadata": {},
   "outputs": [
    {
     "name": "stdout",
     "output_type": "stream",
     "text": [
      "1\n",
      "2\n",
      "3\n",
      "4\n",
      "5\n"
     ]
    }
   ],
   "source": [
    "i = 1\n",
    "while i < 6:\n",
    "  print(i)\n",
    "  i += 1\n"
   ]
  },
  {
   "cell_type": "markdown",
   "metadata": {},
   "source": [
    "Inilah yang terjadi dalam contoh diatas:\n",
    "\n",
    "n adalah 5. Ekspresi dalam while header pada baris 2 adalah n > 0, which is benar, sehingga badan perulangan dieksekusi. Di dalam badan loop pada baris 3, n dikurangi 1 menjadi 4, dan kemudian dicetak ke layar.\n",
    "\n",
    "Ketika badan loop telah selesai, eksekusi program kembali ke atas loop pada baris 2, dan ekspresi dievaluasi lagi. ekspresinya masih benar, jadi badan dieksekusi lagi, dan 3 dicetak.\n",
    "\n",
    "Looping berlanjut sampai n menjadi 0. Pada titik itu, ketika ekspresi diuji, dan salah, loop berhenti. Eksekusi akan dilanjutkan pada pernyataan pertama setelah badan loop, tetapi tidak ada satu pun dalam kasus ini.\n",
    "\n",
    "The Python break and continue Statements\n",
    "Dalam setiap contoh yang telah kalian lihat sejauh ini, seluruh isi while loop dijalankan pada setiap iterasi. Python menyediakan dua keywords yang menghentikan perulangan perulangan sebelum waktunya:\n",
    "\n",
    "Python break statement segera menghentikan perulangan seluruhnya. Eksekusi program dilanjutkan ke pernyataan pertama setelah badan loop.\n",
    "\n",
    "Python continue statement segera menghentikan iterasi loop saat dijalankan. Eksekusi melompat ke atas loop, dan controlling expression dievaluasi ulang untuk menentukan apakah loop akan dieksekusi lagi atau dihentikan.\n",
    "\n",
    "Perbedaan antara break dan continue ditunjukkan pada diagram berikut:"
   ]
  },
  {
   "cell_type": "code",
   "execution_count": null,
   "metadata": {},
   "outputs": [],
   "source": [
    "n = 5\n",
    "while n > 0:\n",
    "    n -= 1\n",
    "    if n == 2:\n",
    "        break  # Break Statement\n",
    "    print(n)\n",
    "print('Loop ended.')\n"
   ]
  },
  {
   "cell_type": "markdown",
   "metadata": {},
   "source": [
    "Ketika n menjadi 2, pernyataan break dieksekusi. Perulangan dihentikan sepenuhnya, dan eksekusi program melompat ke pernyataan print () pada baris 7.\n",
    "\n",
    "Skrip berikutnya, continue, identik dengan break kecuali continue menggantikan jeda:"
   ]
  },
  {
   "cell_type": "code",
   "execution_count": null,
   "metadata": {},
   "outputs": [
    {
     "name": "stdout",
     "output_type": "stream",
     "text": [
      "4\n",
      "3\n",
      "1\n",
      "0\n",
      "Loop ended.\n"
     ]
    }
   ],
   "source": [
    "n = 5\n",
    "while n > 0:\n",
    "    n -= 1\n",
    "    if n == 2:\n",
    "        continue\n",
    "    print(n)\n",
    "print('Loop ended.')\n"
   ]
  },
  {
   "cell_type": "markdown",
   "metadata": {},
   "source": [
    "Kali ini, ketika n adalah 2, pernyataan continue menyebabkan penghentian iterasi. Jadi, 2 tidak dicetak. Eksekusi kembali ke atas loop, kondisi dievaluasi ulang, dan masih benar. Perulangan dilanjutkan, berakhir ketika n menjadi 0, seperti sebelumnya.\n",
    "\n",
    "The else Clause\n",
    "Python memungkinkan adanya klausa else opsional di akhir loop while. Ini adalah fitur unik Python, tidak ditemukan di sebagian besar bahasa pemrograman lainnya. Sintaksnya ditunjukkan di bawah ini:\n",
    "\n",
    "\n",
    "while <expr>:\n",
    "    <statement(s)>\n",
    "else:\n",
    "    <additional_statement(s)>\n",
    "<additional_statement(s)> yang ditentukan di klausa else akan dieksekusi ketika loop sementara berakhir."
   ]
  },
  {
   "cell_type": "code",
   "execution_count": null,
   "metadata": {},
   "outputs": [
    {
     "name": "stdout",
     "output_type": "stream",
     "text": [
      "4\n",
      "3\n",
      "2\n",
      "1\n",
      "0\n",
      "Loop done.\n"
     ]
    }
   ],
   "source": [
    "n = 5\n",
    "while n > 0:\n",
    "    n -= 1\n",
    "    print(n)\n",
    "else:\n",
    "    print('Loop done.')\n"
   ]
  },
  {
   "cell_type": "markdown",
   "metadata": {},
   "source": [
    "Dalam kasus ini, loop diulang sampai kondisi habis: n menjadi 0, jadi n> 0 menjadi false. Klausa else dieksekusi. Sekarang amati perbedaannya di sini:"
   ]
  },
  {
   "cell_type": "code",
   "execution_count": 19,
   "metadata": {},
   "outputs": [
    {
     "name": "stdout",
     "output_type": "stream",
     "text": [
      "4\n",
      "3\n",
      "2\n"
     ]
    }
   ],
   "source": [
    "n = 5\n",
    "while n > 0:\n",
    "    n -= 1\n",
    "    print(n)\n",
    "    if n == 2:\n",
    "        break\n",
    "else:\n",
    "    print('Loop done.')\n"
   ]
  }
 ],
 "metadata": {
  "kernelspec": {
   "display_name": "Python 3.9.0 64-bit",
   "language": "python",
   "name": "python3"
  },
  "language_info": {
   "codemirror_mode": {
    "name": "ipython",
    "version": 3
   },
   "file_extension": ".py",
   "mimetype": "text/x-python",
   "name": "python",
   "nbconvert_exporter": "python",
   "pygments_lexer": "ipython3",
   "version": "3.9.0"
  },
  "orig_nbformat": 4,
  "vscode": {
   "interpreter": {
    "hash": "6fff98fc3b3d81bd655c2cc48858186e4d9e2db7b515bf1c3221888f12a62f87"
   }
  }
 },
 "nbformat": 4,
 "nbformat_minor": 2
}
