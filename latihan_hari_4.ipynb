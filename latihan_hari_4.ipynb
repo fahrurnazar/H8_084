{
 "cells": [
  {
   "cell_type": "code",
   "execution_count": 59,
   "metadata": {},
   "outputs": [
    {
     "name": "stdout",
     "output_type": "stream",
     "text": [
      "[ 1  2  3  4  5  6  7  8  9 10 11 12 13 14 15 16 17 18 19 20 21 22 23 24\n",
      " 25 26 27]\n",
      "[[ 1  2  3  4  5  6  7  8  9]\n",
      " [10 11 12 13 14 15 16 17 18]\n",
      " [19 20 21 22 23 24 25 26 27]]\n",
      "[[[ 1  2  3]\n",
      "  [ 4  5  6]\n",
      "  [ 7  8  9]]\n",
      "\n",
      " [[10 11 12]\n",
      "  [13 14 15]\n",
      "  [16 17 18]]\n",
      "\n",
      " [[19 20 21]\n",
      "  [22 23 24]\n",
      "  [25 26 27]]]\n"
     ]
    }
   ],
   "source": [
    "import numpy as np\n",
    "\n",
    "#input, mulai:1, selesai:28\n",
    "a=int(input(\"Mulai:\"))\n",
    "b=int(input(\"Selesai:\"))\n",
    "one_dimension = np.arange(a, b)\n",
    "#1 dimensi\n",
    "print(one_dimension)\n",
    "#2 dimensi\n",
    "print(np.reshape(one_dimension, (3, 9)))\n",
    "#3 dimensi\n",
    "print(np.reshape(one_dimension, (3, 3,3)))\n"
   ]
  },
  {
   "cell_type": "code",
   "execution_count": 69,
   "metadata": {},
   "outputs": [
    {
     "name": "stdout",
     "output_type": "stream",
     "text": [
      "[43 21 25 24  5 14 15 15 31  9 28  3  6 35 44 36]\n",
      "[[43 21 25 24]\n",
      " [ 5 14 15 15]\n",
      " [31  9 28  3]\n",
      " [ 6 35 44 36]]\n",
      "[[24 25 21 43]\n",
      " [15 15 14  5]\n",
      " [ 3 28  9 31]\n",
      " [36 44 35  6]]\n"
     ]
    }
   ],
   "source": [
    "#input banyak data :16, Mulai:1, Selesai:50\n",
    "import numpy as np\n",
    "n=int(input(\"Banyak Data:\"))\n",
    "m=int(input(\"Mulai:\"))\n",
    "s=int(input(\"Selesai:\"))\n",
    "\n",
    "one_dim = np.random.randint(m, s, n)\n",
    "print(one_dim)\n",
    "\n",
    "#2 dimensi\n",
    "two_dim = np.reshape(one_dim, (4, 4))\n",
    "print(two_dim)\n",
    "\n",
    "#2 dimensi\n",
    "#two_dim_sort = np.flip(two_dim,1)\n",
    "two_dim_sort = two_dim[:,::-1]\n",
    "print(two_dim_sort)\n",
    "\n"
   ]
  }
 ],
 "metadata": {
  "kernelspec": {
   "display_name": "Python 3.9.0 64-bit",
   "language": "python",
   "name": "python3"
  },
  "language_info": {
   "codemirror_mode": {
    "name": "ipython",
    "version": 3
   },
   "file_extension": ".py",
   "mimetype": "text/x-python",
   "name": "python",
   "nbconvert_exporter": "python",
   "pygments_lexer": "ipython3",
   "version": "3.9.0"
  },
  "orig_nbformat": 4,
  "vscode": {
   "interpreter": {
    "hash": "6fff98fc3b3d81bd655c2cc48858186e4d9e2db7b515bf1c3221888f12a62f87"
   }
  }
 },
 "nbformat": 4,
 "nbformat_minor": 2
}
