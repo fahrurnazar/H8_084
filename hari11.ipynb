{
 "cells": [
  {
   "cell_type": "markdown",
   "metadata": {},
   "source": [
    "ntroduction\n",
    "Inferential statistics mengambil data sebagai sampel dari populasi yang lebih besar untuk membuat kesimpulan. Tujuan utama dari metode ini adalah untuk menarik kesimpulan dari sampel dan menggeneralisasikannya untuk populasi yang lebih besar. Oleh karena itu, kita perlu mencari sampel sedemikian rupa sehingga dapat mencerminkan populasi dengan benar. Ada banyak cara untuk memilih sampel dari populasi, tetapi secara umum, pengambilan sampel secara acak memungkinkan kita untuk memiliki keyakinan bahwa sampel tersebut mewakili populasi.\n",
    "\n",
    "Dalam banyak kasus, tidak mungkin mengukur atau memahami keseluruhan populasi; dalam hal ini, pengambilan sampel menyelamatkan kita. Akibatnya, kecil kemungkinannya nilai-nilainya sama ketika kita mencoba memperkirakan sifat-sifat populasi dari suatu sampel.\n",
    "\n",
    "Why do we need inferential statistics?\n",
    "\n",
    "Consider the case where you are interested in the average number of hours children watch television per day. Now you know that the children in your locality on an average watch television for 1 hour per day. How do you go about finding this for all the children?\n",
    "\n",
    "Ada 2 metode yang dapat kita gunakan untuk menghitung hasil:\n",
    "\n",
    "Collect data about each and every child.\n",
    "Use the data we have to calculate the overall average.\n",
    "Metode pertama adalah tugas yang sangat sulit dan ribet. Jumlah usaha dan sumber daya yang dibutuhkan untuk menyelesaikan tugas ini akan sangat besar.\n",
    "\n",
    "Metode kedua jauh lebih sederhana dan lebih mudah dilakukan. Tapi ada masalah. Kita tidak dapat menyamakan rata-rata yang kita peroleh dari limited data dengan seluruh populasi. Pertimbangkan kasus di mana anak-anak di daerah kita lebih tertarik pada olahraga sehingga jumlah jam yang mereka habiskan untuk menonton televisi jauh lebih sedikit daripada jumlah keseluruhan populasi. Bagaimana cara kita mencari rata-rata populasi? Di sinilah inferential statistics datang untuk membantu kita.\n",
    "\n",
    "Inferential statistics membantu kita menjawab pertanyaan-pertanyaan berikut:\n",
    "\n",
    "Making inferences about a population from a sample\n",
    "Concluding whether a sample is significantly different from the population. Let’s look at the previous example where I pointed out that the sample is different from the population as the children are more interested in sports rather than watching television.\n",
    "If adding or removing a feature from a model will help in improving it.\n",
    "If one model is significantly different from the other.\n",
    "Hypothesis Testing.\n",
    "Probability Distributions\n",
    "Probability distribution adalah fungsi di bawah teori dan statistik probabilitas - yang memberi kita seberapa besar kemungkinan hasil yang berbeda dalam sebuah eksperimen. Probability distribution menggambarkan peristiwa dalam hal probabilitasnya; dari semua kemungkinan hasil. Mari kita ambil distribusi probabilitas dari lemparan koin yang adil. Di sini, kepala mengambil nilai X = 0,5 dan ekor mendapat X = 0,5 juga.\n",
    "Dua kelas dari distribusi semacam itu adalah discrete dan continuous. Yang pertama diwakili oleh probability mass function dan yang terakhir diwakili oleh probability density function.\n",
    "\n",
    "Sebelum memulai, kita akan belajar beberapa terminologi matematika yang dibahas.\n",
    "\n",
    "Random Variable\n",
    "Random variable adalah variabel yang kemungkinan nilainya merupakan hasil numerik dari fenomena acak. Ada dua jenis variabel acak, diskrit dan kontinu.\n",
    "\n",
    "Discrete random variable adalah variabel yang mungkin hanya mengambil sejumlah nilai berbeda yang dapat dihitung dan dengan demikian dapat dikuantifikasi. Misalnya, kita  dapat menentukan variabel acak X sebagai angka yang muncul saat kita melempar dadu yang adil. X dapat mengambil nilai: [1,2,3,4,5,6] dan oleh karena itu merupakan variabel acak diskrit.\n",
    "\n",
    "Probability distribution dari discrete random variable adalah daftar probabilitas yang terkait dengan masing-masing kemungkinan nilainya. Kadang-kadang juga disebut probability function atau probability mass function. Untuk memiliki pengertian matematis, anggaplah variabel acak X dapat mengambil nilai k yang berbeda, dengan probabilitas bahwa X=xᵢ didefinisikan sebagai P(X=xᵢ)=pᵢ. Maka probabilitas pᵢ harus memenuhi hal-hal berikut:\n",
    "\n",
    "1: 0 < pᵢ < 1 for each ᵢ\n",
    "\n",
    "2: p₁+p₂+...+pₖ=1\n",
    "\n",
    "Beberapa contoh dari discrete probability distributions adalah Bernoulli distribution, Binomial distribution, Poisson distribution, dll.\n",
    "\n",
    "Continuous random variable adalah variabel yang mengambil jumlah kemungkinan nilai tak terbatas. Misalnya, kita dapat menentukan variabel acak X sebagai tinggi siswa di kelas.\n",
    "\n",
    "Probability distribution dari continuous random variable, yang dikenal sebagai probability density functions, adalah fungsi yang menggunakan nilai kontinu. Probabilitas mengamati nilai tunggal sama dengan 0 karena jumlah nilai yang dapat diasumsikan oleh variabel acak tidak terbatas. Misalnya, variabel acak X dapat mengambil semua nilai selama interval bilangan real. Kemudian probabilitas bahwa X berada dalam himpunan hasil A, P (A), didefinisikan sebagai area above A dan under a curve. Kurva, yang merepresentasikan fungsi p (x), harus memenuhi yang berikut:\n",
    "\n",
    "1: The curve has no negative values (p(x) > 0 for all x)\n",
    "\n",
    "2: The total area under the curve is equal to 1.\n",
    "\n",
    "Kurva yang memenuhi persyaratan ini sering dikenal sebagai density curve. Beberapa contoh distribusi probabilitas kontinu adalah normal distribution, exponential distribution, beta distribution, dll.\n",
    "\n",
    "Ada jenis distribusi lain yang sering muncul di literatur yang perlu kita ketahui yang disebut cumulative distribution function. Semua variabel acak (diskrit dan kontinu) memiliki cumulative distribution function. Ini adalah fungsi yang memberikan probabilitas bahwa variabel acak X kurang dari atau sama dengan x, untuk setiap nilai x. Untuk variabel acak diskrit, fungsi distribusi kumulatif ditemukan dengan menjumlahkan probabilitas.\n",
    "\n",
    "Di bagian selanjutnya, kita akan menjelajahi beberapa distribusi penting dan mencobanya dengan python tetapi sebelum itu mengimpor semua pustaka yang diperlukan yang akan kita gunakan."
   ]
  },
  {
   "cell_type": "code",
   "execution_count": 26,
   "metadata": {},
   "outputs": [],
   "source": [
    "\n",
    "# for inline plots in jupyter\n",
    "from IPython.core.display import Image\n",
    "from IPython.display import Math, Latex\n",
    "import matplotlib.pyplot as plt\n",
    "%matplotlib inline\n",
    "# import matplotlib\n",
    "# for latex equations\n",
    "# for displaying images\n"
   ]
  },
  {
   "cell_type": "code",
   "execution_count": 27,
   "metadata": {},
   "outputs": [],
   "source": [
    "# import seaborn\n",
    "import seaborn as sns\n",
    "# settings for seaborn plotting style\n",
    "sns.set(color_codes=True)\n",
    "# settings for seaborn plot sizes\n",
    "sns.set(rc={'figure.figsize':(5,5)})"
   ]
  },
  {
   "cell_type": "code",
   "execution_count": 28,
   "metadata": {},
   "outputs": [],
   "source": [
    "from scipy.stats import uniform\n"
   ]
  },
  {
   "cell_type": "code",
   "execution_count": 29,
   "metadata": {},
   "outputs": [],
   "source": [
    "# random numbers from uniform distribution\n",
    "n = 10000\n",
    "start = 10\n",
    "width = 20\n",
    "data_uniform = uniform.rvs(size=n, loc=start, scale=width)\n"
   ]
  },
  {
   "cell_type": "code",
   "execution_count": 30,
   "metadata": {},
   "outputs": [
    {
     "name": "stderr",
     "output_type": "stream",
     "text": [
      "c:\\ProgramData\\Anaconda3\\lib\\site-packages\\seaborn\\distributions.py:2619: FutureWarning: `distplot` is a deprecated function and will be removed in a future version. Please adapt your code to use either `displot` (a figure-level function with similar flexibility) or `histplot` (an axes-level function for histograms).\n",
      "  warnings.warn(msg, FutureWarning)\n"
     ]
    },
    {
     "data": {
      "text/plain": [
       "[Text(0.5, 0, 'Uniform Distribution '), Text(0, 0.5, 'Frequency')]"
      ]
     },
     "execution_count": 30,
     "metadata": {},
     "output_type": "execute_result"
    },
    {
     "data": {
      "image/png": "[encoded data removed]",
      "text/plain": [
       "<Figure size 360x360 with 1 Axes>"
      ]
     },
     "metadata": {},
     "output_type": "display_data"
    }
   ],
   "source": [
    "ax = sns.distplot(data_uniform,\n",
    "                  bins=100,\n",
    "                  kde=True,\n",
    "                  color='skyblue',\n",
    "                  hist_kws={\"linewidth\": 15, 'alpha': 1})\n",
    "ax.set(xlabel='Uniform Distribution ', ylabel='Frequency')\n"
   ]
  },
  {
   "cell_type": "markdown",
   "metadata": {},
   "source": [
    "Normal Distribution\n",
    "Normal Distribution, juga dikenal sebagai Gaussian distribution, ada di mana-mana dalam Data Science. Kita akan menemukannya di banyak tempat terutama dalam topik inferensi statistik.\n",
    "\n",
    "Distribusi normal memiliki kurva kerapatan berbentuk lonceng yang dijelaskan dengan mean μ dan deviasi standarnya σ. Kurva kepadatan simetris, berpusat di sekitar meannya, dengan penyebarannya ditentukan oleh deviasi standarnya yang menunjukkan bahwa data di dekat mean lebih sering terjadi daripada data yang jauh dari mean.\n",
    "\n",
    "Di bawah ini adalah gambar yang menggambarkan seperti apa distribusi tersebut:\n",
    "\n",
    "\n",
    "Hampir 68% data berada dalam jarak satu standard deviation dari mean di kedua sisi dan 95% dalam dua standard deviation. Juga perlu disebutkan bahwa distribusi dengan mean 0 dan standard deviation 1 disebut standard normal distribution.\n",
    "\n",
    "Kita dapat membuat normally distributed random variable menggunakan scipy.stats module yaitu norm.rvs() . Argumen loc sesuai dengan rata-rata distribusi, scale sesuai dengan standard deviation dan size sesuai dengan jumlah variasi acak."
   ]
  },
  {
   "cell_type": "code",
   "execution_count": 31,
   "metadata": {},
   "outputs": [],
   "source": [
    "from scipy.stats import norm\n",
    "# generate random numbers from N(0,1)\n",
    "data_normal = norm.rvs(size=10000,loc=0,scale=1)"
   ]
  },
  {
   "cell_type": "code",
   "execution_count": 32,
   "metadata": {},
   "outputs": [
    {
     "name": "stderr",
     "output_type": "stream",
     "text": [
      "c:\\ProgramData\\Anaconda3\\lib\\site-packages\\seaborn\\distributions.py:2619: FutureWarning: `distplot` is a deprecated function and will be removed in a future version. Please adapt your code to use either `displot` (a figure-level function with similar flexibility) or `histplot` (an axes-level function for histograms).\n",
      "  warnings.warn(msg, FutureWarning)\n"
     ]
    },
    {
     "data": {
      "text/plain": [
       "[Text(0.5, 0, 'Normal Distribution'), Text(0, 0.5, 'Frequency')]"
      ]
     },
     "execution_count": 32,
     "metadata": {},
     "output_type": "execute_result"
    },
    {
     "data": {
      "image/png": "[encoded data removed]",
      "text/plain": [
       "<Figure size 360x360 with 1 Axes>"
      ]
     },
     "metadata": {},
     "output_type": "display_data"
    }
   ],
   "source": [
    "ax = sns.distplot(data_normal,\n",
    "                  bins=100,\n",
    "                  kde=True,\n",
    "                  color='skyblue',\n",
    "                  hist_kws={\"linewidth\": 15, 'alpha': 1})\n",
    "ax.set(xlabel='Normal Distribution', ylabel='Frequency')\n"
   ]
  }
 ],
 "metadata": {
  "kernelspec": {
   "display_name": "Python 3.9.12 ('base')",
   "language": "python",
   "name": "python3"
  },
  "language_info": {
   "codemirror_mode": {
    "name": "ipython",
    "version": 3
   },
   "file_extension": ".py",
   "mimetype": "text/x-python",
   "name": "python",
   "nbconvert_exporter": "python",
   "pygments_lexer": "ipython3",
   "version": "3.9.12"
  },
  "orig_nbformat": 4,
  "vscode": {
   "interpreter": {
    "hash": "ad2bdc8ecc057115af97d19610ffacc2b4e99fae6737bb82f5d7fb13d2f2c186"
   }
  }
 },
 "nbformat": 4,
 "nbformat_minor": 2
}
