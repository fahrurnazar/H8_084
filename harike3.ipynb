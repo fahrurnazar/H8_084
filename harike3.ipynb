{
 "cells": [
  {
   "cell_type": "markdown",
   "metadata": {},
   "source": [
    "Python Function\n",
    "Function adalah blok kode yang terorganisir dan dapat digunakan kembali, yang digunakan untuk melakukan satu tindakan terkait. Functions menyediakan modularitas yang lebih baik untuk aplikasi kalian dan code reusing yang tinggi.\n",
    "\n",
    "Seperti yang sudah kelian ketahui, Python memberi kalian banyak built-in functions seperti print(), dll. Tetapi kalian juga dapat membuat function sendiri. Fungsi-fungsi ini disebut user-defined functions.\n",
    "\n",
    "Defining a Function\n",
    "Kalian dapat membuat functions untuk menyediakan fungsionalitas yang diperlukan. Berikut adalah aturan sederhana untuk mendefinisikan functions dengan Python.\n",
    "\n",
    "Function blocks dimulai dengan keyword def diikuti dengan nama fungsi dan tanda kurung (()).\n",
    "\n",
    "Parameter atau argumen masukan apa pun harus ditempatkan di dalam tanda kurung ini. Kalian juga dapat menentukan parameter di dalam tanda kurung ini.\n",
    "\n",
    "Statement awal dari suatu fungsi dapat berupa optional statement - dokumentasi dari fungsi atau docstring.\n",
    "\n",
    "Blok kode dalam setiap function dimulai dengan titik dua (:) dan diberi indentasi.\n",
    "\n",
    "Statement return [expression] menyebabkan kita keluar dari suatu fungsi, dan secara opsional meneruskan ekspresi ke pemanggil. Pernyataan return tanpa argumen sama dengan return None.\n",
    "\n",
    "\n",
    "def function_name( parameters ):\n",
    "   \"docstring\"\n",
    "   statement(s)\n",
    "Secara default, parameter memiliki positional behavior dan kalian perlu menginformasikannya dalam urutan yang sama seperti ketika dibuat.\n",
    "\n",
    "String pertama setelah header fungsi disebut docstring dan merupakan kependekan dari documentation string. Digunakan untuk menjelaskan secara singkat, apa tujuan dari function kalian.\n",
    "\n",
    "Meskipun opsional, dokumentasi adalah praktik pemrograman yang baik. Kecuali kalian dapat mengingat apa yang kalian makan untuk makan malam minggu lalu, selalu dokumentasikan kode kalian.\n",
    "\n",
    "Dalam contoh di atas, kita memiliki docstring tepat di bawah header fungsi. KIta biasanya menggunakan tanda kutip tiga sehingga docstring dapat diperpanjang hingga beberapa baris. String ini tersedia bagi kita sebagai atribut doc dari fungsi tersebut."
   ]
  },
  {
   "cell_type": "code",
   "execution_count": 1,
   "metadata": {},
   "outputs": [
    {
     "name": "stdout",
     "output_type": "stream",
     "text": [
      "8\n"
     ]
    }
   ],
   "source": [
    "def my_function(p, l):\n",
    "    \"Function untuk mengitung luas\"\n",
    "    print(p * l)\n",
    "    \n",
    "my_function(2,4)"
   ]
  },
  {
   "cell_type": "code",
   "execution_count": 3,
   "metadata": {},
   "outputs": [],
   "source": [
    "def printme(str):\n",
    "   \"This prints a passed string into this function\"\n",
    "   print(str)\n",
    "   return\n"
   ]
  },
  {
   "cell_type": "markdown",
   "metadata": {},
   "source": [
    "Calling a Function\n",
    "Mendefinisikan function hanya memberinya nama, menentukan parameter yang akan disertakan dalam fungsi dan menyusun blok kode.\n",
    "\n",
    "Setelah struktur dasar suatu function diselesaikan, kalian dapat menjalankannya dengan memanggilnya dari fungsi lain atau langsung dari prompt Python. Berikut adalah contoh untuk memanggil fungsi printme() :"
   ]
  },
  {
   "cell_type": "code",
   "execution_count": 4,
   "metadata": {},
   "outputs": [
    {
     "name": "stdout",
     "output_type": "stream",
     "text": [
      "I'm first call to user defined function!\n",
      "Again second call to the same function\n"
     ]
    }
   ],
   "source": [
    "# Function definition is here\n",
    "def printme(str):\n",
    "   \"This prints a passed string into this function\"\n",
    "   print(str)\n",
    "   return\n",
    "\n",
    "\n",
    "# Now you can call printme function\n",
    "printme(\"I'm first call to user defined function!\")\n",
    "printme(\"Again second call to the same function\")\n"
   ]
  },
  {
   "cell_type": "markdown",
   "metadata": {},
   "source": [
    "Pass by reference vs value\n",
    "Semua parameter (arguments) dalam Python di-passed by reference. Artinya jika kalian mengubah apa yang dirujuk oleh parameter dalam suatu fungsi, perubahan tersebut juga kembali fungsi pemanggil. Sebagai contoh:"
   ]
  },
  {
   "cell_type": "code",
   "execution_count": 5,
   "metadata": {},
   "outputs": [
    {
     "name": "stdout",
     "output_type": "stream",
     "text": [
      "Values inside the function:  [10, 20, 30, [1, 2, 3, 4]]\n",
      "Values outside the function:  [10, 20, 30, [1, 2, 3, 4]]\n"
     ]
    }
   ],
   "source": [
    "# Function definition is here\n",
    "def changeme(mylist):\n",
    "   \"This changes a passed list into this function\"\n",
    "   mylist.append([1, 2, 3, 4])\n",
    "   print(\"Values inside the function: \", mylist)\n",
    "   return\n",
    "\n",
    "\n",
    "# Now you can call changeme function\n",
    "mylist = [10, 20, 30]\n",
    "changeme(mylist)\n",
    "print(\"Values outside the function: \", mylist)\n"
   ]
  },
  {
   "cell_type": "markdown",
   "metadata": {},
   "source": [
    "Ada satu contoh lagi di mana argumen diteruskan oleh reference dan reference kemudian dioverwritte di dalam fungsi yang dipanggil."
   ]
  },
  {
   "cell_type": "code",
   "execution_count": 6,
   "metadata": {},
   "outputs": [
    {
     "name": "stdout",
     "output_type": "stream",
     "text": [
      "Values inside the function:  [1, 2, 3, 4]\n",
      "Values outside the function:  [10, 20, 30]\n"
     ]
    }
   ],
   "source": [
    "# Function definition is here\n",
    "def changeme(mylist):\n",
    "   \"This changes a passed list into this function\"\n",
    "   mylist = [1, 2, 3, 4]  # This would assig new reference in mylist\n",
    "   print(\"Values inside the function: \", mylist)\n",
    "   return\n",
    "\n",
    "\n",
    "# Now you can call changeme function\n",
    "mylist = [10, 20, 30]\n",
    "changeme(mylist)\n",
    "print(\"Values outside the function: \", mylist)\n"
   ]
  },
  {
   "cell_type": "markdown",
   "metadata": {},
   "source": [
    "Function Arguments\n",
    "Kalian bisa memanggil suatu fungsi dengan menggunakan tipe argumen berikut\n",
    "\n",
    "Required arguments\n",
    "Keyword arguments\n",
    "Default arguments\n",
    "Variable-length arguments\n",
    "Required arguments\n",
    "\n",
    "Required arguments adalah argumen yang diteruskan ke suatu fungsi dalam urutan posisi yang benar. Di sini, jumlah argumen dalam pemanggilan fungsi harus sama persis dengan function definition.\n",
    "\n",
    "Untuk memanggil fungsi printme(), kalian pasti perlu memberikan satu argumen, jika tidak maka akan terjadi error sebagai berikut:"
   ]
  },
  {
   "cell_type": "code",
   "execution_count": 7,
   "metadata": {},
   "outputs": [
    {
     "ename": "TypeError",
     "evalue": "printme() missing 1 required positional argument: 'str'",
     "output_type": "error",
     "traceback": [
      "\u001b[1;31m---------------------------------------------------------------------------\u001b[0m",
      "\u001b[1;31mTypeError\u001b[0m                                 Traceback (most recent call last)",
      "\u001b[1;32md:\\01. Project\\Training\\harike3.ipynb Cell 11'\u001b[0m in \u001b[0;36m<cell line: 9>\u001b[1;34m()\u001b[0m\n\u001b[0;32m      <a href='vscode-notebook-cell:/d%3A/01.%20Project/Training/harike3.ipynb#ch0000012?line=4'>5</a>\u001b[0m    \u001b[39mreturn\u001b[39;00m\n\u001b[0;32m      <a href='vscode-notebook-cell:/d%3A/01.%20Project/Training/harike3.ipynb#ch0000012?line=7'>8</a>\u001b[0m \u001b[39m# Now you can call printme function\u001b[39;00m\n\u001b[1;32m----> <a href='vscode-notebook-cell:/d%3A/01.%20Project/Training/harike3.ipynb#ch0000012?line=8'>9</a>\u001b[0m printme()\n",
      "\u001b[1;31mTypeError\u001b[0m: printme() missing 1 required positional argument: 'str'"
     ]
    }
   ],
   "source": [
    "# Function definition is here\n",
    "def printme(str):\n",
    "   \"This prints a passed string into this function\"\n",
    "   print(str)\n",
    "   return\n",
    "\n",
    "\n",
    "# Now you can call printme function\n",
    "printme()\n"
   ]
  },
  {
   "cell_type": "markdown",
   "metadata": {},
   "source": [
    "Keyword arguments\n",
    "\n",
    "Keyword arguments berkaitan dengan pemanggilan fungsi. Saat kalian menggunakan Keyword arguments dalam memanggil fungsi, pemanggil mengidentifikasi argumen dengan nama parameter.\n",
    "\n",
    "Hal ini memungkinkan kalian untuk melewati argumen atau menempatkannya tidak berurutan karena interpreter Python dapat menggunakan kata kunci yang disediakan untuk mencocokkan nilai dengan parameter. Kalian juga dapat membuat panggilan kata kunci ke fungsi printme() dengan cara berikut:"
   ]
  },
  {
   "cell_type": "code",
   "execution_count": 8,
   "metadata": {},
   "outputs": [
    {
     "name": "stdout",
     "output_type": "stream",
     "text": [
      "Hacktiv8\n"
     ]
    }
   ],
   "source": [
    "# Function definition is here\n",
    "def printme(str):\n",
    "   \"This prints a passed string into this function\"\n",
    "   print(str)\n",
    "   return\n",
    "\n",
    "\n",
    "# Now you can call printme function\n",
    "printme(str=\"Hacktiv8\")\n"
   ]
  },
  {
   "cell_type": "markdown",
   "metadata": {},
   "source": [
    "Contoh berikut memberikan gambaran yang lebih jelas. Perhatikan bahwa urutan parameter tidak menjadi masalah."
   ]
  },
  {
   "cell_type": "code",
   "execution_count": 9,
   "metadata": {},
   "outputs": [
    {
     "name": "stdout",
     "output_type": "stream",
     "text": [
      "Name:  a\n",
      "Age:  4\n"
     ]
    }
   ],
   "source": [
    "# Function definition is here\n",
    "def printinfo( name, age ):\n",
    "   \"This prints a passed info into this function\"\n",
    "   print(\"Name: \", name)\n",
    "   print(\"Age: \", age)\n",
    "   return;\n",
    "\n",
    "# Now you can call printinfo function\n",
    "printinfo( age=4, name=\"a\" )"
   ]
  },
  {
   "cell_type": "markdown",
   "metadata": {},
   "source": [
    "Default arguments\n",
    "\n",
    "Default argument adalah argumen yang mengasumsikan nilai default jika nilai tidak disediakan dalam pemanggilan fungsi untuk argumen tersebut. Contoh berikut memberikan gambaran tentang Default argument, dia akan mencetak usia default jika tidak diberikan nilai apapun.\n",
    "\n"
   ]
  },
  {
   "cell_type": "code",
   "execution_count": 10,
   "metadata": {},
   "outputs": [
    {
     "name": "stdout",
     "output_type": "stream",
     "text": [
      "Name:  hacktiv8\n",
      "Age:  50\n",
      "Name:  hacktiv\n",
      "Age:  26\n"
     ]
    }
   ],
   "source": [
    "# Function definition is here\n",
    "def printinfo( name, age = 26 ):\n",
    "   \"This prints a passed info into this function\"\n",
    "   print(\"Name: \", name)\n",
    "   print(\"Age: \", age)\n",
    "   return;\n",
    "\n",
    "# Now you can call printinfo function\n",
    "printinfo( age=50, name=\"hacktiv8\" )\n",
    "printinfo( name=\"hacktiv\" )"
   ]
  },
  {
   "cell_type": "markdown",
   "metadata": {},
   "source": [
    "Variable-length arguments\n",
    "\n",
    "Kalian mungkin perlu memproses suatu fungsi untuk menerima lebih banyak argumen daripada yang kalian tentukan saat mendefinisikan fungsi. Argumen ini disebut variable-length arguments dan tidak diberi nama ketika definisi fungsi, tidak seperti required dan default arguments.\n",
    "\n",
    "Sintaks untuk fungsi dengan non-keyword variable arguments adalah sebagai berikut:\n",
    "\n",
    "\n",
    "def functionname([formal_args,] *var_args_tuple ):\n",
    "   \"function_docstring\"\n",
    "   function_suite\n",
    "   return [expression]\n",
    "Tanda bintang (*) ditempatkan sebelum nama variabel yang menyimpan nilai dari semua nonkeyword variable arguments. Tuple tersebut tetap kosong jika tidak ada argumen tambahan yang ditentukan selama pemanggilan fungsi. Berikut adalah contoh sederhana:"
   ]
  },
  {
   "cell_type": "code",
   "execution_count": 11,
   "metadata": {},
   "outputs": [
    {
     "name": "stdout",
     "output_type": "stream",
     "text": [
      "Output is: \n",
      "10\n",
      "Output is: \n",
      "70\n",
      "60\n",
      "50\n",
      "a\n"
     ]
    }
   ],
   "source": [
    "# Function definition is here\n",
    "def printinfo( arg1, *vartuple ):\n",
    "   \"This prints a variable passed arguments\"\n",
    "   print(\"Output is: \")\n",
    "   print(arg1)\n",
    "   for var in vartuple:\n",
    "      print(var)\n",
    "   return;\n",
    "\n",
    "# Now you can call printinfo function\n",
    "printinfo( 10 )\n",
    "printinfo( 70, 60, 50, \"a\" )"
   ]
  },
  {
   "cell_type": "markdown",
   "metadata": {},
   "source": [
    "The Anonymous Functions\n",
    "Functions ini disebut anonymous karena tidak dideklarasikan dengan cara standar dengan menggunakan keyword def. Kalian dapat menggunakan keyword lambda untuk membuat anonymous functions.\n",
    "\n",
    "Lambda dapat mengambil berapapun argumen tetapi hanya mengembalikan satu nilai dalam bentuk expression. Lambda tidak boleh berisi commands atau multiple expressions.\n",
    "Anonymous function tidak bisa dipanggil langsung melalui print karena lambda memerlukan expression\n",
    "Lambda functions memiliki namespace local sendiri dan tidak dapat mengakses variabel selain yang ada di daftar parameternya dan yang ada di namespace global.\n",
    "Syntax dari lambda functions mengandung hanya single statement, seperti dibawah ini:\n",
    "\n",
    "lambda [arg1 [,arg2,.....argn]]:expression\n",
    "\n",
    "Berikut adalah contoh untuk menunjukkan cara kerja bentuk fungsi lambda:"
   ]
  },
  {
   "cell_type": "code",
   "execution_count": 12,
   "metadata": {},
   "outputs": [
    {
     "name": "stdout",
     "output_type": "stream",
     "text": [
      "Value of total :  None\n",
      "Value of total :  None\n"
     ]
    }
   ],
   "source": [
    "# Function definition is here\n",
    "sum = lambda arg1, arg2: arg1 + arg2;\n",
    "\n",
    "def sum(arg1, arg2):\n",
    "    arg1 + arg2\n",
    "    \n",
    "# Now you can call sum as a function\n",
    "print(\"Value of total : \", sum( 10, 20 ))\n",
    "print(\"Value of total : \", sum( 20, 20 ))"
   ]
  },
  {
   "cell_type": "markdown",
   "metadata": {},
   "source": [
    "The return Statement\n",
    "Statement return [expression] menyebabkan kita keluar dari suatu fungsi, dan secara opsional meneruskan ekspresi ke pemanggil. Pernyataan return tanpa argumen sama dengan return None.\n",
    "\n",
    "Semua contoh di atas tidak mengembalikan nilai apa pun. Kalian dapat mengembalikan nilai dari fungsi sebagai berikut:"
   ]
  },
  {
   "cell_type": "code",
   "execution_count": 13,
   "metadata": {},
   "outputs": [
    {
     "name": "stdout",
     "output_type": "stream",
     "text": [
      "Inside the function :  30\n",
      "Outside the function :  40\n"
     ]
    }
   ],
   "source": [
    "# Function definition is here\n",
    "def sum(arg1, arg2):\n",
    "    # Add both the parameters and return them.\"\n",
    "    total = arg1 + arg2\n",
    "    total2 = total + arg1\n",
    "    print(\"Inside the function : \", total)\n",
    "    return total2\n",
    "\n",
    "\n",
    "# Now you can call sum function\n",
    "total = sum(10, 20)\n",
    "print(\"Outside the function : \", total)\n"
   ]
  },
  {
   "cell_type": "markdown",
   "metadata": {},
   "source": [
    "Scope of Variables\n",
    "Semua variabel dalam program mungkin tidak dapat diakses di semua lokasi dalam program tersebut. Tergantung di mana kalian mendeklarasikan variabel.\n",
    "\n",
    "Scope of a variable menentukan aturan apakah program ditempat kalian dapat mengakses identifier tertentu. Ada dua cakupan dasar variabel di Python\n",
    "\n",
    "Global variables\n",
    "Local variables\n",
    "Global vs. Local variables\n",
    "\n",
    "Variabel yang didefinisikan  di dalam badan fungsi adalah local scope, dan variabel yang ditentukan di luar alah global scope.\n",
    "\n",
    "Ini berarti bahwa variabel lokal hanya dapat diakses di dalam fungsi yang dideklarasikan, sedangkan variabel global dapat diakses di seluruh badan program oleh semua fungsi. Saat kalian memanggil sebuah fungsi, variabel yang dideklarasikan di dalamnya akan dimasukkan ke dalam scopenya. Berikut adalah contoh sederhana:"
   ]
  },
  {
   "cell_type": "code",
   "execution_count": 18,
   "metadata": {},
   "outputs": [
    {
     "name": "stdout",
     "output_type": "stream",
     "text": [
      "Inside the function local total :  30\n",
      "Outside the function global total :  0\n"
     ]
    }
   ],
   "source": [
    "total = 0\n",
    "def sum(arg1, arg2):\n",
    "    total = arg1 + arg2\n",
    "    print(\"Inside the function local total : \", total)\n",
    "    return total\n",
    "\n",
    "sum(10, 20)\n",
    "print(\"Outside the function global total : \", total)\n"
   ]
  },
  {
   "cell_type": "code",
   "execution_count": 19,
   "metadata": {},
   "outputs": [
    {
     "data": {
      "text/plain": [
       "40"
      ]
     },
     "execution_count": 19,
     "metadata": {},
     "output_type": "execute_result"
    }
   ],
   "source": [
    "jumlahKucing = 20\n",
    "\n",
    "\n",
    "def jumlahHewan():\n",
    "    jumlahAnjing = 30\n",
    "    return jumlahKucing + jumlahAnjing\n",
    "\n",
    "\n",
    "def jumlahKelinci():\n",
    "    return jumlahKucing + jumlahKucing\n",
    "\n",
    "\n",
    "jumlahHewan()\n",
    "jumlahKelinci()\n"
   ]
  },
  {
   "cell_type": "markdown",
   "metadata": {},
   "source": [
    "Bagian ini membahas Python modules dan Python packages, dua mekanisme yang memfasilitasi pemrograman modular/modular programming.\n",
    "\n",
    "Pemrograman modular mengacu pada proses pemecahan tugas pemrograman yang besar dan berat menjadi subtugas atau modul yang terpisah, lebih kecil, dan lebih mudah dikelola. Modul individu kemudian dapat digabungkan seperti blok bangunan untuk membuat aplikasi yang lebih besar.\n",
    "\n",
    "Ada beberapa keuntungan memodularisasi kode dalam aplikasi besar:\n",
    "\n",
    "Simplicity: Daripada berfokus pada keseluruhan masalah yang dihadapi, modul biasanya berfokus pada satu bagian masalah yang relatif kecil. Jika kalian mengerjakan satu modul, kalian akan memiliki domain masalah yang lebih kecil untuk dipahami. Ini membuat development lebih mudah dan less error.\n",
    "\n",
    "Maintainability: Modul biasanya dirancang sedemikian rupa sehingga menerapkan logical boundaries antara domain masalah yang berbeda. Jika modul ditulis dengan cara yang meminimalkan ketergantungan, ada kemungkinan kecil bahwa modifikasi pada satu modul akan berdampak pada bagian lain dari program. (Kalian bahkan dapat membuat perubahan pada modul tanpa memiliki knowledge apa pun tentang aplikasi di luar modul tersebut.) Hal ini membuat modul lebih cocok bagi tim yang terdiri dari banyak programmer untuk bekerja secara kolaboratif pada aplikasi besar.\n",
    "\n",
    "Reusability: Fungsi yang didefinisikan dalam satu modul dapat dengan mudah digunakan kembali/reused oleh bagian lain dari aplikasi. Hal ini menghilangkan kebutuhan untuk membuat duplicate code.\n",
    "\n",
    "Scoping: Modul biasanya mendefinisikan namespace secara  terpisah, yang membantu menghindari tabrakan antara identifiers di berbagai area program.\n",
    "\n",
    "Python Modules: Overview\n",
    "Ada tiga cara berbeda untuk mendefinisikan module dengan Python:\n",
    "\n",
    "Module dapat ditulis dengan bahasa Python itu sendiri.\n",
    "Module dapat ditulis dalam C dan di-load secara dinamis pada saat run-time, seperti modul re (ekspresi reguler).\n",
    "Built-in module secara intrinsik terdapat dalam interpreter, seperti modul itertools.\n",
    "Isi modul diakses dengan cara yang sama dalam ketiga kasus diatas: dengan import statement.\n",
    "\n",
    "Di sini, fokusnya sebagian besar ada pada modul yang ditulis dengan Python. Hal yang menguntungkan tentang modul yang ditulis dengan Python adalah module sangat mudah dibuat. Yang perlu kalian lakukan adalah membuat file yang berisi kode Python dan kemudian memberi nama file dengan ekstensi .py.\n",
    "\n",
    "Misalnya, kalian buat sebuah file bernama mod.py dengan isi sebagai berikut:\n",
    "\n",
    "s = \"Hacktiv8-PTP Python For Data Science\"\n",
    "a = [100, 200, 300]\n",
    "\n",
    "def foo(arg):\n",
    "    print(f'arg = {arg}')\n",
    "\n",
    "class Foo:\n",
    "    pass\n",
    "Beberapa objek didefinisikan di mod.py:\n",
    "\n",
    "s (a string)\n",
    "a (a list)\n",
    "foo() (a function)\n",
    "Foo (a class)\n",
    "Dengan asumsi mod.py berada di lokasi yang sesuai, yang akan segera kalian pelajari lebih lanjut, objek ini dapat diakses dengan mengimpor modul dengan cara sebagai berikut:\n",
    "\n",
    "\n",
    ">>> import mod\n",
    ">>> print(mod.s)\n",
    "Hacktiv8-PTP Python For Data Science\n",
    ">>> mod.a\n",
    "[100, 200, 300]\n",
    ">>> mod.foo(['quux', 'corge', 'grault'])\n",
    "arg = ['quux', 'corge', 'grault']\n",
    ">>> x = mod.Foo()\n",
    ">>> x\n",
    "<mod.Foo object at 0x03C181F0>"
   ]
  },
  {
   "cell_type": "markdown",
   "metadata": {},
   "source": [
    "The Module Search Path\n",
    "Melanjutkan contoh di atas, mari kita lihat apa yang terjadi ketika Python menjalankan pernyataan:\n",
    "\n",
    "import mod\n",
    "\n",
    "Ketika interpreter menjalankan pernyataan import di atas, ia mencari mod.py dalam daftar direktori dari sumber berikut:\n",
    "\n",
    "Direktori tempat skrip input dijalankan atau direktori saat ini jika interpreter dijalankan secara interaktif\n",
    "The list of directories contained in the PYTHONPATH environment variable, if it is set. (The format for PYTHONPATH is OS-dependent but should mimic the PATH environment variable.)\n",
    "Daftar direktori yang terdapat dalam variabel PYTHONPATH environment. (Format untuk PYTHONPATH bergantung pada OS tetapi harus sama dengan variabel PATH environment.)\n",
    "Daftar direktori yang bergantung pada instalasi yang dikonfigurasi pada saat Python diinstal\n",
    "Hasil dari search path dapat diakses di variabel Python sys.path, yang diperoleh dari modul bernama sys:\n",
    "\n",
    "\n",
    ">>> import sys\n",
    ">>> sys.path\n",
    "\n",
    "['', '/usr/local/anaconda3/lib/python37.zip', '/usr/local/anaconda3/lib/python3.7', '/usr/local/anaconda3/lib/python3.7/lib-dynload', '/usr/local/anaconda3/lib/python3.7/site-packages', '/usr/local/anaconda3/lib/python3.7/site-packages/aeosa']\n",
    "Jadi, untuk memastikan modul kalian ditemukan, kalian perlu melakukan salah satu hal berikut:\n",
    "\n",
    "Letakkan mod.py di direktori tempat skrip input berada atau direktori saat ini pada terminal\n",
    "Modifikasi PYTHONPATH environment variable agar memuat direktori tempat mod.py berada sebelum memulai interpreter\n",
    "Atau: Letakkan mod.py di salah satu direktori yang sudah ada di variabel PYTHONPATH\n",
    "Letakkan mod.py di salah satu direktori yang bergantung pada instalasi, yang mungkin kalian miliki atau tidak memiliki write-access, tergantung pada OS\n",
    "Sebenarnya ada satu opsi tambahan: kalian dapat meletakkan file modul di direktori pilihan kalian dan kemudian memodifikasi sys.path pada saat run-time sehingga berisi direktori tersebut. Misalnya, dalam kasus ini, kalian dapat meletakkan mod.py di direktori /Users/ardhiraka/Desktop/H8Py dan kemudian jalankan statements berikut:\n",
    "\n",
    "\n",
    ">>> sys.path.append(r'/Users/ardhiraka/Desktop/H8Py')\n",
    ">>> sys.path\n",
    "\n",
    "['', '/usr/local/anaconda3/lib/python37.zip', '/usr/local/anaconda3/lib/python3.7', '/usr/local/anaconda3/lib/python3.7/lib-dynload', '/usr/local/anaconda3/lib/python3.7/site-packages', '/usr/local/anaconda3/lib/python3.7/site-packages/aeosa', '/usr/local/', '/Users/ardhiraka/Desktop/H8Py']\n",
    "\n",
    "import mod\n",
    "Setelah modul berhasil diimpor, kalian dapat menentukan lokasi di mana modul itu ditemukan dengan atribut file:\n",
    "\n",
    "\n",
    ">>> import mod\n",
    ">>> mod.__file__\n",
    "'/Users/ardhiraka/Desktop/H8Py'\n",
    "\n",
    ">>> import re\n",
    ">>> re.__file__\n",
    "'/usr/local/anaconda3/lib/python3.7/re.py'"
   ]
  },
  {
   "cell_type": "markdown",
   "metadata": {},
   "source": [
    "The import Statement\n",
    "Isi modul tersedia untuk pemanggil dengan import statement. Import statement memiliki banyak bentuk berbeda, seperti di bawah ini.\n",
    "\n",
    "import <module_name>\n",
    "\n",
    "Bentuk paling sederhana adalah yang sudah ditunjukkan di atas:\n",
    "\n",
    "import <module_name>\n",
    "\n",
    "Dari pemanggil, objek dalam modul hanya dapat diakses jika diawali dengan <module_name> menggunakan notasi titik, seperti yang diilustrasikan di bawah.\n",
    "\n",
    "\n",
    ">>> import mod\n",
    ">>> mod\n",
    "<module 'mod' from '/Users/ardhiraka/Desktop/H8Py'>\n",
    "Tanpa notasi titik, s dan foo akan mengembalikan error.\n",
    "\n",
    "\n",
    ">>> s\n",
    "NameError: name 's' is not defined\n",
    ">>> foo('quux')\n",
    "NameError: name 'foo' is not defined\n",
    "Untuk diakses dalam konteks lokal, nama objek yang ditentukan dalam modul harus diawali dengan mod:\n",
    "\n",
    "\n",
    ">>> mod.s\n",
    "'Hacktiv8-PTP Python For Data Science'\n",
    ">>> mod.foo('quux')\n",
    "arg = quux\n",
    "Beberapa modul yang dipisahkan koma dapat dipanggil dalam single import statement:\n",
    "\n",
    "import <module_name>[, <module_name> ...]\n",
    "\n",
    "from <module_name> import <name(s)>\n",
    "\n",
    "Bentuk alternatif dari import statement memungkinkan objek individu dari modul untuk diimpor langsung ke tabel simbol pemanggil:\n",
    "\n",
    "from <module_name> import <name(s)>\n",
    "\n",
    "Setelah menjalankan pernyataan di atas, <name(s)> dapat dirujuk di environment pemanggil tanpa awalan <module_name>:\n",
    "\n",
    "\n",
    ">>> from mod import s, foo\n",
    ">>> s\n",
    "'Hacktiv8-PTP Python For Data Science'\n",
    ">>> foo('quux')\n",
    "arg = quux\n",
    "\n",
    ">>> from mod import Foo\n",
    ">>> x = Foo()\n",
    ">>> x\n",
    "<mod.Foo object at 0x02E3AD50>\n",
    "Karena bentuk impor ini menempatkan nama objek langsung ke tabel simbol pemanggil, objek apa pun yang sudah ada dengan nama yang sama akan ditimpa:\n",
    "\n",
    "\n",
    ">>> a = ['foo', 'bar', 'baz']\n",
    ">>> a\n",
    "['foo', 'bar', 'baz']\n",
    "\n",
    ">>> from mod import a\n",
    ">>> a\n",
    "[100, 200, 300]\n",
    "It is even possible to indiscriminately import everything from a module at one fell swoop:\n",
    "\n",
    "Bahkan memungkinan untuk mengimpor semuanya secara langsung dari modul dalam satu command:\n",
    "\n",
    "from <module_name> import *\n",
    "\n",
    "Hal ini akan menempatkan nama semua objek dari <module_name> ke dalam tabel simbol lokal, dengan pengecualian yang dimulai dengan karakter garis bawah (_).\n",
    "\n",
    "Sebagai contoh:\n",
    "\n",
    "\n",
    ">>> from mod import *\n",
    ">>> s\n",
    "'Hacktiv8-PTP Python For Data Science'\n",
    ">>> a\n",
    "[100, 200, 300]\n",
    ">>> foo\n",
    "<function foo at 0x03B449C0>\n",
    ">>> Foo\n",
    "<class 'mod.Foo'>\n",
    "Hni tidak selalu direkomendasikan dalam kode produksi skala besar. Dan sedikit berbahaya karena kalian memasukkan nama ke tabel simbol lokal secara massal. Kecuali jika kalian mengenal object kalian semua dengan baik dan yakin tidak akan ada konflik, kalian memiliki peluang yang cukup besar untuk menimpa nama yang sudah ada secara tidak sengaja. Namun, sintaksis ini cukup berguna ketika Anda hanya menggunakan interpreter interaktif, untuk tujuan pengujian atau discovery , karena sintaks ini dengan cepat memberi kalian akses ke semua yang ditawarkan modul tanpa banyak mengetik.\n",
    "\n",
    "from <module_name> import <name> as <alt_name>\n",
    "\n",
    "Dimungkinkan juga untuk mengimpor objek individu tetapi memasukkannya ke dalam tabel simbol lokal dengan nama alternatif:\n",
    "\n",
    "from <module_name> import <name> as <alt_name>[, <name> as <alt_name> …]\n",
    "\n",
    "Hal ini memungkinkan untuk menempatkan nama secara langsung ke tabel simbol lokal tetapi menghindari konflik dengan nama yang sudah ada sebelumnya:\n",
    "\n",
    "\n",
    ">>> s = 'foo'\n",
    ">>> a = ['foo', 'bar', 'baz']\n",
    "\n",
    ">>> from mod import s as string, a as alist\n",
    ">>> s\n",
    "'foo'\n",
    ">>> string\n",
    "'Hacktiv8-PTP Python For Data Science'\n",
    ">>> a\n",
    "['foo', 'bar', 'baz']\n",
    ">>> alist\n",
    "[100, 200, 300]\n",
    "import <module_name> as <alt_name>\n",
    "\n",
    "Kalian juga dapat mengimpor seluruh modul dengan nama alternatif:\n",
    "\n",
    "import <module_name> as <alt_name>\n",
    "\n",
    "\n",
    ">>> import mod as my_module\n",
    ">>> my_module.a\n",
    "[100, 200, 300]\n",
    ">>> my_module.foo('qux')\n",
    "arg = qux\n",
    "Isi modul dapat diimpor dari dalam definisi fungsi. Dalam hal ini, impor tidak akan terjadi hingga fungsinya dipanggil:\n",
    "\n",
    "\n",
    ">>> def bar():\n",
    "...     from mod import foo\n",
    "...     foo('corge')\n",
    "...\n",
    "\n",
    ">>> bar()\n",
    "arg = corge\n",
    "Namun, Python 3 tidak mengizinkan sintaks impor * secara sembarangan dari dalam suatu fungsi:\n",
    "\n",
    "\n",
    ">>> def bar():\n",
    "...     from mod import *\n",
    "...\n",
    "SyntaxError: import * only allowed at module level\n",
    "Terakhir, try statement dengan klausa except ImportError dapat digunakan untuk melindungi dari upaya impor yang gagal:\n",
    "\n",
    "\n",
    ">>> try:\n",
    "...     # Non-existent module\n",
    "...     import baz\n",
    "... except ImportError:\n",
    "...     print('Module not found')\n",
    "...\n",
    "\n",
    "Module not found\n",
    ">>> try:\n",
    "...     # Existing module, but non-existent object\n",
    "...     from mod import baz\n",
    "... except ImportError:\n",
    "...     print('Object not found in module')\n",
    "...\n",
    "\n",
    "Object not found in module\n",
    "The dir() Function\n",
    "Fungsi built-in dir() mengembalikan daftar nama yang ditentukan dalam namespace. Tanpa argumen, dir() menghasilkan daftar nama yang diurutkan menurut abjad dalam tabel simbol lokal saat ini:\n",
    "\n",
    "\n",
    ">>> dir()\n",
    "['__annotations__', '__builtins__', '__doc__', '__loader__', '__name__',\n",
    "'__package__', '__spec__']\n",
    "\n",
    ">>> qux = [1, 2, 3, 4, 5]\n",
    ">>> dir()\n",
    "['__annotations__', '__builtins__', '__doc__', '__loader__', '__name__',\n",
    "'__package__', '__spec__', 'qux']\n",
    "\n",
    ">>> class Bar():\n",
    "...     pass\n",
    "...\n",
    ">>> x = Bar()\n",
    ">>> dir()\n",
    "['Bar', '__annotations__', '__builtins__', '__doc__', '__loader__', '__name__',\n",
    "'__package__', '__spec__', 'qux', 'x']\n",
    "Perhatikan bagaimana panggilan pertama ke dir() di atas mencantumkan beberapa nama yang ditentukan secara otomatis dan sudah ada di namespace saat penerjemah dimulai. Saat nama baru didefinisikan (qux, Bar, x), mereka muncul pada pemanggilan dir() berikutnya.\n",
    "\n",
    "Ini dapat berguna untuk mengidentifikasi apa yang sebenarnya telah ditambahkan ke namespace dengan import statement:\n",
    "\n",
    "\n",
    ">>> dir()\n",
    "['__annotations__', '__builtins__', '__doc__', '__loader__', '__name__',\n",
    "'__package__', '__spec__']\n",
    "\n",
    ">>> import mod\n",
    ">>> dir()\n",
    "['__annotations__', '__builtins__', '__doc__', '__loader__', '__name__',\n",
    "'__package__', '__spec__', 'mod']\n",
    ">>> mod.s\n",
    "'Hacktiv8-PTP Python For Data Science'\n",
    ">>> mod.foo([1, 2, 3])\n",
    "arg = [1, 2, 3]\n",
    "\n",
    ">>> from mod import a, Foo\n",
    ">>> dir()\n",
    "['Foo', '__annotations__', '__builtins__', '__doc__', '__loader__', '__name__',\n",
    "'__package__', '__spec__', 'a', 'mod']\n",
    ">>> a\n",
    "[100, 200, 300]\n",
    ">>> x = Foo()\n",
    ">>> x\n",
    "<mod.Foo object at 0x002EAD50>\n",
    "\n",
    ">>> from mod import s as string\n",
    ">>> dir()\n",
    "['Foo', '__annotations__', '__builtins__', '__doc__', '__loader__', '__name__',\n",
    "'__package__', '__spec__', 'a', 'mod', 'string', 'x']\n",
    ">>> string\n",
    "'Hacktiv8-PTP Python For Data Science'\n",
    "Ketika diberi argumen yaitu nama modul, dir() mencantumkan nama yang ditentukan dalam modul:\n",
    "\n",
    "\n",
    ">>> import mod\n",
    ">>> dir(mod)\n",
    "['Foo', '__builtins__', '__cached__', '__doc__', '__file__', '__loader__',\n",
    "'__name__', '__package__', '__spec__', 'a', 'foo', 's']\n",
    ">>> dir()\n",
    "['__annotations__', '__builtins__', '__doc__', '__loader__', '__name__',\n",
    "'__package__', '__spec__']\n",
    ">>> from mod import *\n",
    ">>> dir()\n",
    "['Foo', '__annotations__', '__builtins__', '__doc__', '__loader__', '__name__',\n",
    "'__package__', '__spec__', 'a', 'foo', 's']"
   ]
  },
  {
   "cell_type": "markdown",
   "metadata": {},
   "source": [
    "Executing a Module as a Script\n",
    "File .py apa pun yang berisi modul pada dasarnya juga merupakan skrip Python, dan dapat dijalankan.\n",
    "\n",
    "Di sini sekali lagi adalah mod.py seperti yang didefinisikan di atas:\n",
    "\n",
    "mod.py"
   ]
  },
  {
   "cell_type": "code",
   "execution_count": 20,
   "metadata": {},
   "outputs": [],
   "source": [
    "s = \"Hacktiv8-PTP Python For Data Science\"\n",
    "a = [100, 200, 300]\n",
    "\n",
    "\n",
    "def foo(arg):\n",
    "    print(f'arg = {arg}')\n",
    "\n",
    "\n",
    "class Foo:\n",
    "    pass\n"
   ]
  },
  {
   "cell_type": "code",
   "execution_count": 24,
   "metadata": {},
   "outputs": [
    {
     "name": "stdout",
     "output_type": "stream",
     "text": [
      "Masukan angka: 11\n",
      "Bilangan  11 Tergolong bilangan GANJIL\n"
     ]
    }
   ],
   "source": [
    "def ganjilGenap(angka):\n",
    "    if(angka%2)==0:\n",
    "        return \"GENAP\"\n",
    "    else:\n",
    "        return \"GANJIL\"\n",
    "\n",
    "angka=11\n",
    "print(\"Masukan angka:\",angka)\n",
    "print(\"Bilangan \",angka,\"Tergolong bilangan\",ganjilGenap(angka))"
   ]
  },
  {
   "cell_type": "code",
   "execution_count": 33,
   "metadata": {},
   "outputs": [
    {
     "name": "stdout",
     "output_type": "stream",
     "text": [
      "MENU MENGHITUNG RUMUS LUAS SEGITIGA DAN PERSEGI\n",
      "Masukan angka 1 untuk menghitung Luas Segitiga\n",
      "Masukan Angka 2 untuk Mengitung Luas Persegi\n",
      "PIlihan Menu yang diinginkan : 1\n",
      "Masukan Tinggai Segitiga : 10\n",
      "Masukan Alas Segitiga : 20\n",
      "Luas Segitiga tersebut Adalah :100.0\n"
     ]
    }
   ],
   "source": [
    "def hasil(menu, tinggi, alas):\n",
    "    if menu == 1:\n",
    "        luas_segitiga = 1/2*alas*tinggi\n",
    "        return \"{}{}\".format(\"Luas Segitiga tersebut Adalah :\", luas_segitiga)\n",
    "    elif menu == 2:\n",
    "        luas_persegi = alas*tinggi\n",
    "        return \"{}{}\".format(\"Luas Persegi tersebut Adalah :\", luas_persegi)\n",
    "    else:\n",
    "        return \"Input menu salah yang diizinkan hanya 1 dan 2\"\n",
    "\n",
    "menu=1\n",
    "tinggi=10\n",
    "alas=20\n",
    "print(\"MENU MENGHITUNG RUMUS LUAS SEGITIGA DAN PERSEGI\")\n",
    "print(\"Masukan angka 1 untuk menghitung Luas Segitiga\")\n",
    "print(\"Masukan Angka 2 untuk Mengitung Luas Persegi\")\n",
    "print(\"PIlihan Menu yang diinginkan :\",menu)\n",
    "print(\"Masukan Tinggai Segitiga :\",tinggi)\n",
    "print(\"Masukan Alas Segitiga :\",alas)\n",
    "print(hasil(menu,tinggi,alas))"
   ]
  },
  {
   "cell_type": "code",
   "execution_count": 77,
   "metadata": {},
   "outputs": [
    {
     "name": "stdout",
     "output_type": "stream",
     "text": [
      "MAsukkan jumlah hari : 398\n",
      "398 hari= 1 tahun 1 bulan 1 minggu 1 hari\n"
     ]
    }
   ],
   "source": [
    "def breakHari(jmlhari):\n",
    "    tahun=int(jmlhari/360)\n",
    "    bulan =int( ((jmlhari/360)-int(jmlhari/360))*360/30 )\n",
    "    \n",
    "    minggu = int(((((jmlhari/360)-int(jmlhari/360))*360/30)-int((((jmlhari/360)-int(jmlhari/360))*360/30)))*30/7)\n",
    "    minggu_decimal = ((((jmlhari/360)-int(jmlhari/360))*360/30) -\n",
    "              int((((jmlhari/360)-int(jmlhari/360))*360/30)))*30/7\n",
    "    hari = int((minggu_decimal-int(minggu_decimal))*7)\n",
    "    return \"{} hari= {} tahun {} bulan {} minggu {} hari\".format(jmlhari,tahun,bulan,minggu,hari)\n",
    "\n",
    "jumlahHari=398\n",
    "\n",
    "print(\"MAsukkan jumlah hari :\",jumlahHari)\n",
    "print(breakHari(jumlahHari))\n"
   ]
  }
 ],
 "metadata": {
  "kernelspec": {
   "display_name": "Python 3.9.0 64-bit",
   "language": "python",
   "name": "python3"
  },
  "language_info": {
   "codemirror_mode": {
    "name": "ipython",
    "version": 3
   },
   "file_extension": ".py",
   "mimetype": "text/x-python",
   "name": "python",
   "nbconvert_exporter": "python",
   "pygments_lexer": "ipython3",
   "version": "3.9.0"
  },
  "orig_nbformat": 4,
  "vscode": {
   "interpreter": {
    "hash": "6fff98fc3b3d81bd655c2cc48858186e4d9e2db7b515bf1c3221888f12a62f87"
   }
  }
 },
 "nbformat": 4,
 "nbformat_minor": 2
}
