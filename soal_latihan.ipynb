{
 "cells": [
  {
   "cell_type": "code",
   "execution_count": 28,
   "metadata": {},
   "outputs": [
    {
     "name": "stdout",
     "output_type": "stream",
     "text": [
      "Bilangan  -1 Tergolong bilangan GANJIL\n"
     ]
    }
   ],
   "source": [
    "def ganjilGenap(angka):\n",
    "    if(angka%2)==0:\n",
    "        return \"GENAP\"\n",
    "    else:\n",
    "        return \"GANJIL\"\n",
    "\n",
    "\n",
    "angka = int(input(\"Masukan angka:\"))\n",
    "print(\"Bilangan \",angka,\"Tergolong bilangan\",ganjilGenap(angka))"
   ]
  },
  {
   "cell_type": "code",
   "execution_count": 5,
   "metadata": {},
   "outputs": [
    {
     "name": "stdout",
     "output_type": "stream",
     "text": [
      "MENU MENGHITUNG RUMUS LUAS SEGITIGA DAN PERSEGI\n",
      "Masukan angka 1 untuk menghitung Luas Segitiga\n",
      "Masukan Angka 2 untuk Mengitung Luas Persegi\n",
      "Luas Segitiga tersebut Adalah :4.0\n"
     ]
    }
   ],
   "source": [
    "def hasil(menu, tinggi, alas):\n",
    "    if menu == 1:\n",
    "        luas_segitiga = 1/2*alas*tinggi\n",
    "        return \"{}{}\".format(\"Luas Segitiga tersebut Adalah :\", luas_segitiga)\n",
    "    elif menu == 2:\n",
    "        luas_persegi = alas*tinggi\n",
    "        return \"{}{}\".format(\"Luas Persegi tersebut Adalah :\", luas_persegi)\n",
    "    else:\n",
    "        return \"Input menu salah yang diizinkan hanya 1 dan 2\"\n",
    "\n",
    "\n",
    "print(\"MENU MENGHITUNG RUMUS LUAS SEGITIGA DAN PERSEGI\")\n",
    "print(\"Masukan angka 1 untuk menghitung Luas Segitiga\")\n",
    "print(\"Masukan Angka 2 untuk Mengitung Luas Persegi\")\n",
    "menu = int(input(\"Pilihan Menu yang diinginkan :\"))\n",
    "tinggi = int(input(\"Masukan Tinggi Segitiga :\"))\n",
    "alas = int(input(\"Masukan Alas Segitiga :\"))\n",
    "print(hasil(menu,tinggi,alas))"
   ]
  },
  {
   "cell_type": "code",
   "execution_count": 13,
   "metadata": {},
   "outputs": [
    {
     "name": "stdout",
     "output_type": "stream",
     "text": [
      "90 hari= 0 tahun 3 bulan 0 minggu 0 hari\n"
     ]
    }
   ],
   "source": [
    "def breakHari(jmlhari):\n",
    "    tahun = int(jmlhari/360)\n",
    "    bulan = int(((jmlhari/360)-int(jmlhari/360))*360/30)\n",
    "\n",
    "    minggu = int(((((jmlhari/360)-int(jmlhari/360))*360/30) -\n",
    "                 int((((jmlhari/360)-int(jmlhari/360))*360/30)))*30/7)\n",
    "    minggu_decimal = ((((jmlhari/360)-int(jmlhari/360))*360/30) -\n",
    "                      int((((jmlhari/360)-int(jmlhari/360))*360/30)))*30/7\n",
    "    hari = int((minggu_decimal-int(minggu_decimal))*7)\n",
    "    return \"{} hari= {} tahun {} bulan {} minggu {} hari\".format(jmlhari, tahun, bulan, minggu, hari)\n",
    "\n",
    "\n",
    "jumlahHari = int(input(\"MAsukkan jumlah hari :\"))\n",
    "print(breakHari(jumlahHari))\n"
   ]
  }
 ],
 "metadata": {
  "kernelspec": {
   "display_name": "Python 3.9.0 64-bit",
   "language": "python",
   "name": "python3"
  },
  "language_info": {
   "codemirror_mode": {
    "name": "ipython",
    "version": 3
   },
   "file_extension": ".py",
   "mimetype": "text/x-python",
   "name": "python",
   "nbconvert_exporter": "python",
   "pygments_lexer": "ipython3",
   "version": "3.9.0"
  },
  "orig_nbformat": 4,
  "vscode": {
   "interpreter": {
    "hash": "6fff98fc3b3d81bd655c2cc48858186e4d9e2db7b515bf1c3221888f12a62f87"
   }
  }
 },
 "nbformat": 4,
 "nbformat_minor": 2
}
